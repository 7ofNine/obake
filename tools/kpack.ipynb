{
 "cells": [
  {
   "cell_type": "markdown",
   "metadata": {},
   "source": [
    "Generating constants for Kroneceker packing\n",
    "===========================================\n",
    "\n",
    "The first step is the generation of the $\\Delta$ values. We generate one $\\Delta$ value for each vector size $l$. The deltas are generated in ascending order for $l$, starting from $l=1$. At every step of the iteration, the $\\Delta$ is assigned a number of bits $b$ that ensures that $\\Delta^l$ is representable by the target integral type. When $b<3$, the iteration stops. The $\\Delta$ is chosen as the first prime number $\\leq \\lfloor 2^b - 1 \\rfloor$.\n"
   ]
  },
  {
   "cell_type": "code",
   "execution_count": 1,
   "metadata": {},
   "outputs": [],
   "source": [
    "def create_deltas(nbits, signed):\n",
    "    import gmpy2\n",
    "    \n",
    "    # Remove the sign bit for signed types.\n",
    "    bit_width = (nbits - 1) if signed else nbits\n",
    "    \n",
    "    # The minimum number of bits of magnitude\n",
    "    # for a Delta.\n",
    "    min_nbits = 3\n",
    "    \n",
    "    # The first Delta (corresponding\n",
    "    # to size 1) is the largest positive\n",
    "    # value representable by the target\n",
    "    # type (assuming two's complement for\n",
    "    # signed types).\n",
    "    ret = [2**bit_width - 1]\n",
    "    cur_len = 2\n",
    "    \n",
    "    # Create the other Deltas.\n",
    "    while True:\n",
    "        cur_nbits = bit_width / cur_len\n",
    "        \n",
    "        # Check if we have enough bits.\n",
    "        if int(cur_nbits) < min_nbits:\n",
    "            break\n",
    "        \n",
    "        # Compute the candidate value.\n",
    "        cand = int(2**(cur_nbits) - 1)\n",
    "\n",
    "        # Walk back until we get a prime.\n",
    "        while not gmpy2.is_prime(cand):\n",
    "            cand = cand - 1\n",
    "\n",
    "        # Double check that the product\n",
    "        # of all deltas is representable\n",
    "        # by the target type\n",
    "        assert cand**cur_len < 2**bit_width\n",
    "        \n",
    "        ret.append(cand)\n",
    "        \n",
    "        cur_len = cur_len + 1\n",
    "    \n",
    "    return ret"
   ]
  },
  {
   "cell_type": "markdown",
   "metadata": {},
   "source": [
    "For example, these are the deltas for signed 32-bit:"
   ]
  },
  {
   "cell_type": "code",
   "execution_count": 2,
   "metadata": {},
   "outputs": [
    {
     "data": {
      "text/plain": [
       "[2147483647, 46337, 1289, 211, 71, 31, 19, 13, 7, 7]"
      ]
     },
     "execution_count": 2,
     "metadata": {},
     "output_type": "execute_result"
    }
   ],
   "source": [
    "create_deltas(32, True)"
   ]
  },
  {
   "cell_type": "markdown",
   "metadata": {},
   "source": [
    "For a given $\\Delta$, the components' limits $m$ and $M$ are computed as follows:\n",
    "\n",
    "* for signed types, $M = -m = \\left( \\Delta - 1 \\right) / 2$ (remember that $\\Delta$ is prime, thus odd),\n",
    "* for unsigned types, $m = 0$ and $M = \\Delta - 1$.\n",
    "\n",
    "Note that because we are assuming two's complement, and due to the way the $\\Delta$ values were created, the values of $m$ and $M$ for $l=1$ (i.e., the largest ones) are guaranteed to be representable by the target signed type. Additionally, with these choices for $\\Delta$, $m$ and $M$ it can be proven that the packing and unpacking process never results in overflows.\n",
    "\n",
    "The following function computes the value of $M$ for a given $\\Delta$."
   ]
  },
  {
   "cell_type": "code",
   "execution_count": 3,
   "metadata": {},
   "outputs": [],
   "source": [
    "def delta_to_lim(delta, signed):\n",
    "    # Delta is always prime, thus odd.\n",
    "    assert delta % 2 != 0\n",
    "    \n",
    "    if signed:\n",
    "        return (delta - 1) // 2\n",
    "    else:\n",
    "        return delta - 1"
   ]
  },
  {
   "cell_type": "markdown",
   "metadata": {},
   "source": [
    "We can now move to compute and print to screen the generated $\\Delta$ values, the limits on the components, and the limits on the encoded values:"
   ]
  },
  {
   "cell_type": "code",
   "execution_count": 4,
   "metadata": {},
   "outputs": [],
   "source": [
    "def type_deltas(nbits, signed):\n",
    "    deltas = create_deltas(nbits, signed)\n",
    "\n",
    "    return \"[{}] = {{ {} }};\".format(len(deltas),\", \".join([\"{}{}\".format(delta, \"ll\" if signed else \"ull\") for delta in deltas]))\n",
    "\n",
    "def type_limits(nbits, signed):\n",
    "    deltas = create_deltas(nbits, signed)\n",
    "    \n",
    "    return \"[{}] = {{ {} }};\".format(len(deltas),\", \".join([\"{}{}\".format(delta_to_lim(delta, signed), \"ll\" if signed else \"ull\") for delta in deltas]))\n",
    "\n",
    "def type_klimits(nbits, signed):\n",
    "    deltas = create_deltas(nbits, signed)\n",
    "    \n",
    "    def delta_to_min(s, delta):\n",
    "        from numpy import dot, array\n",
    "        import itertools\n",
    "        \n",
    "        # Create the coding vector as the partial product\n",
    "        # of the delta values, resulting in: [1, Delta, Delta**2, ...]\n",
    "        # NOTE: need to take [:-1] because accumulate adds an element\n",
    "        # at the end wrt the original vector.\n",
    "        cv = array(list(itertools.accumulate([delta] * s, func = lambda a, b : a*b, initial = 1))[:-1], dtype=object)\n",
    "        \n",
    "        # The components limits array.\n",
    "        lim = array([delta_to_lim(delta, signed)] * s, dtype=object)\n",
    "        \n",
    "        # The encoded value limit is the dot product\n",
    "        # of cv and lim.\n",
    "        return dot(cv, lim)\n",
    "        \n",
    "    return \"[{}] = {{ {} }};\".format(len(deltas),\", \".join([\"{}{}\".format(delta_to_min(tup[0], tup[1]), \"ll\" if signed else \"ull\") for tup in enumerate(deltas, start = 1)]))"
   ]
  },
  {
   "cell_type": "markdown",
   "metadata": {},
   "source": [
    "Examples for 64-bit signed integers:"
   ]
  },
  {
   "cell_type": "code",
   "execution_count": 5,
   "metadata": {},
   "outputs": [
    {
     "data": {
      "text/plain": [
       "'[21] = { 9223372036854775807ll, 3037000493ll, 2097143ll, 55103ll, 6203ll, 1447ll, 509ll, 233ll, 127ll, 73ll, 47ll, 37ll, 23ll, 19ll, 17ll, 13ll, 11ll, 7ll, 7ll, 7ll, 7ll };'"
      ]
     },
     "execution_count": 5,
     "metadata": {},
     "output_type": "execute_result"
    }
   ],
   "source": [
    "type_deltas(64, True)"
   ]
  },
  {
   "cell_type": "code",
   "execution_count": 6,
   "metadata": {},
   "outputs": [
    {
     "data": {
      "text/plain": [
       "'[21] = { 4611686018427387903ll, 1518500246ll, 1048571ll, 27551ll, 3101ll, 723ll, 254ll, 116ll, 63ll, 36ll, 23ll, 18ll, 11ll, 9ll, 8ll, 6ll, 5ll, 3ll, 3ll, 3ll, 3ll };'"
      ]
     },
     "execution_count": 6,
     "metadata": {},
     "output_type": "execute_result"
    }
   ],
   "source": [
    "type_limits(64, True)"
   ]
  },
  {
   "cell_type": "code",
   "execution_count": 7,
   "metadata": {},
   "outputs": [
    {
     "data": {
      "text/plain": [
       "'[21] = { 4611686018427387903ll, 4611685997241121524ll, 4611626645054291603ll, 4609682146931245440ll, 4591757141950655621ll, 4589667151069337064ll, 4425827476873538234ll, 4343275444053330720ll, 4297377374304698943ll, 2148812914851778824ll, 1236079607542006151ll, 3291476002920017640ll, 252018180968233691ll, 399503342891442060ll, 1431211525754907896ll, 332708304591589920ll, 252723514249646885ll, 814206798955224ll, 5699447592686571ll, 39896133148806000ll, 279272932041642003ll };'"
      ]
     },
     "execution_count": 7,
     "metadata": {},
     "output_type": "execute_result"
    }
   ],
   "source": [
    "type_klimits(64, True)"
   ]
  },
  {
   "cell_type": "markdown",
   "metadata": {},
   "source": [
    "The next step is the computation of the data that allows to transform division/modulo by products of $\\Delta$ values into multiplications and right shifts. This is the approach described in Figure 4.1 in:\n",
    "\n",
    "https://gmplib.org/~tege/divcnst-pldi94.pdf"
   ]
  },
  {
   "cell_type": "code",
   "execution_count": 8,
   "metadata": {},
   "outputs": [],
   "source": [
    "# Helper to compute the integer ceiling\n",
    "# of the base-2 log of n.\n",
    "def ceil_log2(n):\n",
    "    assert n > 0\n",
    "    \n",
    "    bl = n.bit_length()\n",
    "    \n",
    "    if n & (n - 1):\n",
    "        # n is not a power of 2,\n",
    "        # the ceil_log2 is simply\n",
    "        # the bit size.\n",
    "        return bl\n",
    "    else:\n",
    "        # n is a power of 2,\n",
    "        # the log 2 is exact and\n",
    "        # corresponds to bl - 1.\n",
    "        return bl - 1\n",
    "\n",
    "# Implementation of the Figure 4.1 algorithm.\n",
    "# Note that this algorithm assumes unsigned\n",
    "# integrals, hence no 'signed' flag.\n",
    "def divcnst_data(d, nbits):\n",
    "    # Ensure that d is not zero\n",
    "    # and within the limit for the\n",
    "    # target type.\n",
    "    assert d > 0\n",
    "    assert d < 2**nbits\n",
    "    \n",
    "    l = ceil_log2(d)\n",
    "    assert d <= 2**l\n",
    "    assert 2**l <= 2*d - 1\n",
    "    \n",
    "    mp = 2**(nbits + l) // d - 2**nbits + 1\n",
    "    assert mp < 2**nbits\n",
    "    sh1 = min(l, 1)\n",
    "    sh2 = max(l - 1, 0)\n",
    "    assert sh1 < nbits\n",
    "    assert sh2 < nbits\n",
    "    assert sh2 == l - sh1\n",
    "    \n",
    "    return mp, sh1, sh2\n",
    "\n",
    "# Small helper for testing that the algorithm\n",
    "# is implemented correctly.\n",
    "def test_div(n, d, nbits):\n",
    "    mp, sh1, sh2 = divcnst_data(d, nbits)\n",
    "    \n",
    "    t1 = (mp * n) >> nbits\n",
    "    \n",
    "    ret = (n - t1) >> sh1\n",
    "    ret = (t1 + ret) >> sh2\n",
    "    \n",
    "    return ret"
   ]
  },
  {
   "cell_type": "markdown",
   "metadata": {},
   "source": [
    "Finally, here's the code for typesetting the data generated by ``divcnst_data()``. Note that the generated data is always unsigned, because the ``divcnst()`` algorithm works on unsigned types."
   ]
  },
  {
   "cell_type": "code",
   "execution_count": 9,
   "metadata": {},
   "outputs": [],
   "source": [
    "def type_divcnst_data(nbits, signed):\n",
    "    deltas = create_deltas(nbits, signed)\n",
    "    \n",
    "    n_deltas = len(deltas)\n",
    "    \n",
    "    ret = []\n",
    "    \n",
    "    for i, delta in enumerate(deltas, start=1):\n",
    "        dprod = 1\n",
    "        cur = [divcnst_data(dprod, nbits)]\n",
    "        \n",
    "        for j in range(n_deltas):\n",
    "            if j < i:\n",
    "                dprod = dprod * delta\n",
    "                cur.append(divcnst_data(dprod, nbits))\n",
    "            else:\n",
    "                cur.append((0,0,0))\n",
    "        \n",
    "        ret.append(cur)\n",
    "    \n",
    "    return \"::std::tuple<??, unsigned, unsigned>[{}][{}] = {{ {} }}\".format(n_deltas, n_deltas + 1, \",\".join(\"{{ {} }}\".format(\",\".join(\"{{ {}ull, {}u, {}u }}\".format(tup[0], tup[1], tup[2]) for tup in row)) for row in ret))"
   ]
  },
  {
   "cell_type": "code",
   "execution_count": 10,
   "metadata": {},
   "outputs": [
    {
     "data": {
      "text/plain": [
       "'::std::tuple<??, unsigned, unsigned>[21][22] = { { { 1ull, 0u, 0u },{ 2ull, 1u, 63u },{ 0ull, 0u, 0u },{ 0ull, 0u, 0u },{ 0ull, 0u, 0u },{ 0ull, 0u, 0u },{ 0ull, 0u, 0u },{ 0ull, 0u, 0u },{ 0ull, 0u, 0u },{ 0ull, 0u, 0u },{ 0ull, 0u, 0u },{ 0ull, 0u, 0u },{ 0ull, 0u, 0u },{ 0ull, 0u, 0u },{ 0ull, 0u, 0u },{ 0ull, 0u, 0u },{ 0ull, 0u, 0u },{ 0ull, 0u, 0u },{ 0ull, 0u, 0u },{ 0ull, 0u, 0u },{ 0ull, 0u, 0u },{ 0ull, 0u, 0u } },{ { 1ull, 0u, 0u },{ 21474836506ull, 1u, 31u },{ 42949673036ull, 1u, 63u },{ 0ull, 0u, 0u },{ 0ull, 0u, 0u },{ 0ull, 0u, 0u },{ 0ull, 0u, 0u },{ 0ull, 0u, 0u },{ 0ull, 0u, 0u },{ 0ull, 0u, 0u },{ 0ull, 0u, 0u },{ 0ull, 0u, 0u },{ 0ull, 0u, 0u },{ 0ull, 0u, 0u },{ 0ull, 0u, 0u },{ 0ull, 0u, 0u },{ 0ull, 0u, 0u },{ 0ull, 0u, 0u },{ 0ull, 0u, 0u },{ 0ull, 0u, 0u },{ 0ull, 0u, 0u },{ 0ull, 0u, 0u } },{ { 1ull, 0u, 0u },{ 10835713892937775587ull, 1u, 21u },{ 4794819346431614849ull, 1u, 42u },{ 145556515377898ull, 1u, 63u },{ 0ull, 0u, 0u },{ 0ull, 0u, 0u },{ 0ull, 0u, 0u },{ 0ull, 0u, 0u },{ 0ull, 0u, 0u },{ 0ull, 0u, 0u },{ 0ull, 0u, 0u },{ 0ull, 0u, 0u },{ 0ull, 0u, 0u },{ 0ull, 0u, 0u },{ 0ull, 0u, 0u },{ 0ull, 0u, 0u },{ 0ull, 0u, 0u },{ 0ull, 0u, 0u },{ 0ull, 0u, 0u },{ 0ull, 0u, 0u },{ 0ull, 0u, 0u },{ 0ull, 0u, 0u } },{ { 1ull, 0u, 0u },{ 4223091239536077ull, 1u, 15u },{ 8447149289233675ull, 1u, 31u },{ 12672174370428739ull, 1u, 47u },{ 16898166704507885ull, 1u, 63u },{ 0ull, 0u, 0u },{ 0ull, 0u, 0u },{ 0ull, 0u, 0u },{ 0ull, 0u, 0u },{ 0ull, 0u, 0u },{ 0ull, 0u, 0u },{ 0ull, 0u, 0u },{ 0ull, 0u, 0u },{ 0ull, 0u, 0u },{ 0ull, 0u, 0u },{ 0ull, 0u, 0u },{ 0ull, 0u, 0u },{ 0ull, 0u, 0u },{ 0ull, 0u, 0u },{ 0ull, 0u, 0u },{ 0ull, 0u, 0u },{ 0ull, 0u, 0u } },{ { 1ull, 0u, 0u },{ 2750580579373439945ull, 1u, 12u },{ 5911298226480638715ull, 1u, 25u },{ 9543308180906529068ull, 1u, 38u },{ 13716884495488783769ull, 1u, 51u },{ 33017831106885716ull, 1u, 63u },{ 0ull, 0u, 0u },{ 0ull, 0u, 0u },{ 0ull, 0u, 0u },{ 0ull, 0u, 0u },{ 0ull, 0u, 0u },{ 0ull, 0u, 0u },{ 0ull, 0u, 0u },{ 0ull, 0u, 0u },{ 0ull, 0u, 0u },{ 0ull, 0u, 0u },{ 0ull, 0u, 0u },{ 0ull, 0u, 0u },{ 0ull, 0u, 0u },{ 0ull, 0u, 0u },{ 0ull, 0u, 0u },{ 0ull, 0u, 0u } },{ { 1ull, 0u, 0u },{ 4859197852852546910ull, 1u, 10u },{ 10998394153063537700ull, 1u, 21u },{ 154009500760308630ull, 1u, 31u },{ 5053776173368963982ull, 1u, 42u },{ 11244227836232952977ull, 1u, 53u },{ 309304807093116307ull, 1u, 63u },{ 0ull, 0u, 0u },{ 0ull, 0u, 0u },{ 0ull, 0u, 0u },{ 0ull, 0u, 0u },{ 0ull, 0u, 0u },{ 0ull, 0u, 0u },{ 0ull, 0u, 0u },{ 0ull, 0u, 0u },{ 0ull, 0u, 0u },{ 0ull, 0u, 0u },{ 0ull, 0u, 0u },{ 0ull, 0u, 0u },{ 0ull, 0u, 0u },{ 0ull, 0u, 0u },{ 0ull, 0u, 0u } },{ { 1ull, 0u, 0u },{ 15104705182913149725ull, 1u, 9u },{ 12065408713840755820ull, 1u, 18u },{ 9301430397384156035ull, 1u, 27u },{ 6787830223270871683ull, 1u, 36u },{ 4501927400631437246ull, 1u, 45u },{ 2423095704021507526ull, 1u, 54u },{ 532577358259013714ull, 1u, 63u },{ 0ull, 0u, 0u },{ 0ull, 0u, 0u },{ 0ull, 0u, 0u },{ 0ull, 0u, 0u },{ 0ull, 0u, 0u },{ 0ull, 0u, 0u },{ 0ull, 0u, 0u },{ 0ull, 0u, 0u },{ 0ull, 0u, 0u },{ 0ull, 0u, 0u },{ 0ull, 0u, 0u },{ 0ull, 0u, 0u },{ 0ull, 0u, 0u },{ 0ull, 0u, 0u } },{ { 1ull, 0u, 0u },{ 367465021388636487ull, 1u, 7u },{ 742250063123660154ull, 1u, 15u },{ 1124500942343445249ull, 1u, 23u },{ 1514366380910238015ull, 1u, 31u },{ 1911998063273182032ull, 1u, 39u },{ 2317550695483993459ull, 1u, 47u },{ 2731182065388247345ull, 1u, 55u },{ 3153053104015693540ull, 1u, 63u },{ 0ull, 0u, 0u },{ 0ull, 0u, 0u },{ 0ull, 0u, 0u },{ 0ull, 0u, 0u },{ 0ull, 0u, 0u },{ 0ull, 0u, 0u },{ 0ull, 0u, 0u },{ 0ull, 0u, 0u },{ 0ull, 0u, 0u },{ 0ull, 0u, 0u },{ 0ull, 0u, 0u },{ 0ull, 0u, 0u },{ 0ull, 0u, 0u } },{ { 1ull, 0u, 0u },{ 16023084268404647025ull, 1u, 7u },{ 13758642990455539085ull, 1u, 14u },{ 11642960628576080572ull, 1u, 21u },{ 9666264699228849260ull, 1u, 28u },{ 7819424706846034604ull, 1u, 35u },{ 6093909969437273465ull, 1u, 42u },{ 4481750214777992986ull, 1u, 49u },{ 2975498765169322172ull, 1u, 56u },{ 1568198140717425354ull, 1u, 63u },{ 0ull, 0u, 0u },{ 0ull, 0u, 0u },{ 0ull, 0u, 0u },{ 0ull, 0u, 0u },{ 0ull, 0u, 0u },{ 0ull, 0u, 0u },{ 0ull, 0u, 0u },{ 0ull, 0u, 0u },{ 0ull, 0u, 0u },{ 0ull, 0u, 0u },{ 0ull, 0u, 0u },{ 0ull, 0u, 0u } },{ { 1ull, 0u, 0u },{ 10001246786950961720ull, 1u, 6u },{ 3489056108004579149ull, 1u, 12u },{ 15381959820982119925ull, 1u, 19u },{ 7638039652317761380ull, 1u, 25u },{ 1666824100576569248ull, 1u, 31u },{ 12571770701093140801ull, 1u, 38u },{ 5471146836981681091ull, 1u, 44u },{ 18438678053621506053ull, 1u, 51u },{ 9995027205196324177ull, 1u, 57u },{ 3484260285928714056ull, 1u, 63u },{ 0ull, 0u, 0u },{ 0ull, 0u, 0u },{ 0ull, 0u, 0u },{ 0ull, 0u, 0u },{ 0ull, 0u, 0u },{ 0ull, 0u, 0u },{ 0ull, 0u, 0u },{ 0ull, 0u, 0u },{ 0ull, 0u, 0u },{ 0ull, 0u, 0u },{ 0ull, 0u, 0u } },{ { 1ull, 0u, 0u },{ 3828569524732171091ull, 1u, 5u },{ 8451747818748377690ull, 1u, 11u },{ 14034453683220778112ull, 1u, 17u },{ 1164545138021968220ull, 1u, 22u },{ 5234812710268132714ull, 1u, 28u },{ 10149852797508784179ull, 1u, 34u },{ 16084995544365419910ull, 1u, 40u },{ 2402608148524393456ull, 1u, 45u },{ 6729832194648419792ull, 1u, 51u },{ 11955159344684979895ull, 1u, 57u },{ 18264988356049882662ull, 1u, 63u },{ 0ull, 0u, 0u },{ 0ull, 0u, 0u },{ 0ull, 0u, 0u },{ 0ull, 0u, 0u },{ 0ull, 0u, 0u },{ 0ull, 0u, 0u },{ 0ull, 0u, 0u },{ 0ull, 0u, 0u },{ 0ull, 0u, 0u },{ 0ull, 0u, 0u } },{ { 1ull, 0u, 0u },{ 13461137567301564693ull, 1u, 5u },{ 9149261669867630057ull, 1u, 10u },{ 5420071704519362263ull, 1u, 15u },{ 2194826329083022550ull, 1u, 20u },{ 17257593920310036130ull, 1u, 26u },{ 12432683380577659408ull, 1u, 31u },{ 8259787778646955215ull, 1u, 36u },{ 4650796987787967806ull, 1u, 41u },{ 1529507655153167884ull, 1u, 46u },{ 16106772430269206438ull, 1u, 52u },{ 11437378308109914809ull, 1u, 57u },{ 7398983391647824752ull, 1u, 62u },{ 0ull, 0u, 0u },{ 0ull, 0u, 0u },{ 0ull, 0u, 0u },{ 0ull, 0u, 0u },{ 0ull, 0u, 0u },{ 0ull, 0u, 0u },{ 0ull, 0u, 0u },{ 0ull, 0u, 0u },{ 0ull, 0u, 0u } },{ { 1ull, 0u, 0u },{ 1908283869694091547ull, 1u, 4u },{ 4013976415563433943ull, 1u, 9u },{ 6337499224798570380ull, 1u, 14u },{ 8901386462575272656ull, 1u, 19u },{ 11730503414604737235ull, 1u, 24u },{ 14852287637533801599ull, 1u, 29u },{ 18297015055938286415ull, 1u, 34u },{ 1825674756440979711ull, 1u, 38u },{ 3922821531973793297ull, 1u, 43u },{ 6236914525665173805ull, 1u, 48u },{ 8790396449738421262ull, 1u, 53u },{ 11608031676302004664ull, 1u, 58u },{ 14717146409061820830ull, 1u, 63u },{ 0ull, 0u, 0u },{ 0ull, 0u, 0u },{ 0ull, 0u, 0u },{ 0ull, 0u, 0u },{ 0ull, 0u, 0u },{ 0ull, 0u, 0u },{ 0ull, 0u, 0u },{ 0ull, 0u, 0u } },{ { 1ull, 0u, 0u },{ 12621456471485482685ull, 1u, 4u },{ 7715951122244161480ull, 1u, 8u },{ 3584999249198838359ull, 1u, 12u },{ 106302935055408363ull, 1u, 16u },{ 12800492993684065191ull, 1u, 21u },{ 7866718719885073064ull, 1u, 25u },{ 3711961436685921799ull, 1u, 29u },{ 213218461360320733ull, 1u, 33u },{ 12980561248513391288ull, 1u, 38u },{ 8018355145004505566ull, 1u, 42u },{ 3839655268365443906ull, 1u, 46u },{ 320750109090444613ull, 1u, 50u },{ 13161667181532547296ull, 1u, 55u },{ 8170865404389057994ull, 1u, 59u },{ 0ull, 0u, 0u },{ 0ull, 0u, 0u },{ 0ull, 0u, 0u },{ 0ull, 0u, 0u },{ 0ull, 0u, 0u },{ 0ull, 0u, 0u },{ 0ull, 0u, 0u } },{ { 1ull, 0u, 0u },{ 16276538888567251426ull, 1u, 4u },{ 14233992831962733600ull, 1u, 8u },{ 12311596543393775647ull, 1u, 12u },{ 10502282389446521102ull, 1u, 16u },{ 8799398479849105060ull, 1u, 20u },{ 7196684211992713490ull, 1u, 24u },{ 5688247254010227308ull, 1u, 28u },{ 4268541881791416783ull, 1u, 32u },{ 2932348590291359818ull, 1u, 36u },{ 1674754904173659146ull, 1u, 40u },{ 491137317239352630ull, 1u, 44u },{ 17201032662194268141ull, 1u, 49u },{ 15104104618905808156ull, 1u, 53u },{ 13130525284046081110ull, 1u, 57u },{ 11273038851236926244ull, 1u, 61u },{ 0ull, 0u, 0u },{ 0ull, 0u, 0u },{ 0ull, 0u, 0u },{ 0ull, 0u, 0u },{ 0ull, 0u, 0u },{ 0ull, 0u, 0u } },{ { 1ull, 0u, 0u },{ 4256940940086819604ull, 1u, 3u },{ 9496252866347520655ull, 1u, 7u },{ 15944636775591460410ull, 1u, 11u },{ 2717182602783378861ull, 1u, 14u },{ 7601165681974055125ull, 1u, 18u },{ 13612221779439502835ull, 1u, 22u },{ 1281850297459097277ull, 1u, 25u },{ 5834602844651862406ull, 1u, 29u },{ 11437990595042957949ull, 1u, 33u },{ 18334467826293537080ull, 1u, 37u },{ 4187847864753887582ull, 1u, 40u },{ 9411215235168527396ull, 1u, 44u },{ 15839975075678853322ull, 1u, 48u },{ 2652775402837159115ull, 1u, 51u },{ 7521895282040246207ull, 1u, 55u },{ 13514658210290199551ull, 1u, 59u },{ 0ull, 0u, 0u },{ 0ull, 0u, 0u },{ 0ull, 0u, 0u },{ 0ull, 0u, 0u },{ 0ull, 0u, 0u } },{ { 1ull, 0u, 0u },{ 8384883669867978008ull, 1u, 3u },{ 1067167012528651747ull, 1u, 6u },{ 9937126597182380548ull, 1u, 10u },{ 2196070959666399049ull, 1u, 13u },{ 11579168702110012987ull, 1u, 17u },{ 3390283399613768096ull, 1u, 20u },{ 13316204978397095237ull, 1u, 24u },{ 4653582509640737004ull, 1u, 27u },{ 15153730956618140923ull, 1u, 31u },{ 5989965039256042958ull, 1u, 34u },{ 17097560090604040491ull, 1u, 38u },{ 7403658954882151735ull, 1u, 41u },{ 353549037993505366ull, 1u, 44u },{ 8899136816040349449ull, 1u, 48u },{ 1441169300654012795ull, 1u, 51u },{ 10481129925364723891ull, 1u, 55u },{ 2591709743799012389ull, 1u, 58u },{ 0ull, 0u, 0u },{ 0ull, 0u, 0u },{ 0ull, 0u, 0u },{ 0ull, 0u, 0u } },{ { 1ull, 0u, 0u },{ 2635249153387078803ull, 1u, 2u },{ 5646962471543740291ull, 1u, 5u },{ 9088920549437067706ull, 1u, 8u },{ 13022586924172299038ull, 1u, 11u },{ 17518205638155420560ull, 1u, 14u },{ 2104655761641861056ull, 1u, 16u },{ 5040570023834920009ull, 1u, 19u },{ 8395900609198415956ull, 1u, 22u },{ 12230564135328125609ull, 1u, 25u },{ 16613036736619222355ull, 1u, 28u },{ 1587416389335462082ull, 1u, 30u },{ 4449439312627606896ull, 1u, 33u },{ 7720322653532915255ull, 1u, 36u },{ 11458475043138981950ull, 1u, 39u },{ 15730649202688772460ull, 1u, 42u },{ 1083194941375204999ull, 1u, 44u },{ 3873186229244455944ull, 1u, 47u },{ 7061747701095028452ull, 1u, 50u },{ 0ull, 0u, 0u },{ 0ull, 0u, 0u },{ 0ull, 0u, 0u } },{ { 1ull, 0u, 0u },{ 2635249153387078803ull, 1u, 2u },{ 5646962471543740291ull, 1u, 5u },{ 9088920549437067706ull, 1u, 8u },{ 13022586924172299038ull, 1u, 11u },{ 17518205638155420560ull, 1u, 14u },{ 2104655761641861056ull, 1u, 16u },{ 5040570023834920009ull, 1u, 19u },{ 8395900609198415956ull, 1u, 22u },{ 12230564135328125609ull, 1u, 25u },{ 16613036736619222355ull, 1u, 28u },{ 1587416389335462082ull, 1u, 30u },{ 4449439312627606896ull, 1u, 33u },{ 7720322653532915255ull, 1u, 36u },{ 11458475043138981950ull, 1u, 39u },{ 15730649202688772460ull, 1u, 42u },{ 1083194941375204999ull, 1u, 44u },{ 3873186229244455944ull, 1u, 47u },{ 7061747701095028452ull, 1u, 50u },{ 10705817954638539891ull, 1u, 53u },{ 0ull, 0u, 0u },{ 0ull, 0u, 0u } },{ { 1ull, 0u, 0u },{ 2635249153387078803ull, 1u, 2u },{ 5646962471543740291ull, 1u, 5u },{ 9088920549437067706ull, 1u, 8u },{ 13022586924172299038ull, 1u, 11u },{ 17518205638155420560ull, 1u, 14u },{ 2104655761641861056ull, 1u, 16u },{ 5040570023834920009ull, 1u, 19u },{ 8395900609198415956ull, 1u, 22u },{ 12230564135328125609ull, 1u, 25u },{ 16613036736619222355ull, 1u, 28u },{ 1587416389335462082ull, 1u, 30u },{ 4449439312627606896ull, 1u, 33u },{ 7720322653532915255ull, 1u, 36u },{ 11458475043138981950ull, 1u, 39u },{ 15730649202688772460ull, 1u, 42u },{ 1083194941375204999ull, 1u, 44u },{ 3873186229244455944ull, 1u, 47u },{ 7061747701095028452ull, 1u, 50u },{ 10705817954638539891ull, 1u, 53u },{ 14870469672973981534ull, 1u, 56u },{ 0ull, 0u, 0u } },{ { 1ull, 0u, 0u },{ 2635249153387078803ull, 1u, 2u },{ 5646962471543740291ull, 1u, 5u },{ 9088920549437067706ull, 1u, 8u },{ 13022586924172299038ull, 1u, 11u },{ 17518205638155420560ull, 1u, 14u },{ 2104655761641861056ull, 1u, 16u },{ 5040570023834920009ull, 1u, 19u },{ 8395900609198415956ull, 1u, 22u },{ 12230564135328125609ull, 1u, 25u },{ 16613036736619222355ull, 1u, 28u },{ 1587416389335462082ull, 1u, 30u },{ 4449439312627606896ull, 1u, 33u },{ 7720322653532915255ull, 1u, 36u },{ 11458475043138981950ull, 1u, 39u },{ 15730649202688772460ull, 1u, 42u },{ 1083194941375204999ull, 1u, 44u },{ 3873186229244455944ull, 1u, 47u },{ 7061747701095028452ull, 1u, 50u },{ 10705817954638539891ull, 1u, 53u },{ 14870469672973981534ull, 1u, 56u },{ 591663781538181613ull, 1u, 58u } } }'"
      ]
     },
     "execution_count": 10,
     "metadata": {},
     "output_type": "execute_result"
    }
   ],
   "source": [
    "type_divcnst_data(64, False)"
   ]
  }
 ],
 "metadata": {
  "kernelspec": {
   "display_name": "Python 3",
   "language": "python",
   "name": "python3"
  },
  "language_info": {
   "codemirror_mode": {
    "name": "ipython",
    "version": 3
   },
   "file_extension": ".py",
   "mimetype": "text/x-python",
   "name": "python",
   "nbconvert_exporter": "python",
   "pygments_lexer": "ipython3",
   "version": "3.8.6"
  }
 },
 "nbformat": 4,
 "nbformat_minor": 4
}
